{
 "cells": [
  {
   "cell_type": "code",
   "execution_count": 2,
   "id": "e21e498f-d12d-435d-9637-8f81b6e024f6",
   "metadata": {},
   "outputs": [
    {
     "name": "stdout",
     "output_type": "stream",
     "text": [
      "hello world\n"
     ]
    }
   ],
   "source": [
    "print(\"hello world\")"
   ]
  },
  {
   "cell_type": "code",
   "execution_count": 4,
   "id": "deca577a-0617-4204-b027-306f6de8d2af",
   "metadata": {},
   "outputs": [
    {
     "name": "stdout",
     "output_type": "stream",
     "text": [
      "hello world\n"
     ]
    }
   ],
   "source": [
    "print(\"hello world\") #open and close brackets"
   ]
  },
  {
   "cell_type": "code",
   "execution_count": 5,
   "id": "36e702c7-4791-4fbb-a9b4-9b2430727e56",
   "metadata": {},
   "outputs": [],
   "source": [
    "a = 3"
   ]
  },
  {
   "cell_type": "code",
   "execution_count": 6,
   "id": "aeeee774-9269-4e1a-b148-1c3c42ff85d9",
   "metadata": {},
   "outputs": [
    {
     "data": {
      "text/plain": [
       "3"
      ]
     },
     "execution_count": 6,
     "metadata": {},
     "output_type": "execute_result"
    }
   ],
   "source": [
    "a"
   ]
  },
  {
   "cell_type": "markdown",
   "id": "e8e21ade-0e2c-4f34-8292-22145d7a16e5",
   "metadata": {},
   "source": [
    "variables are placeholder where we will keep variety of data which we can use to write logic"
   ]
  },
  {
   "cell_type": "code",
   "execution_count": 8,
   "id": "c4c29338-a78d-4931-9c74-37fd99c88391",
   "metadata": {},
   "outputs": [
    {
     "data": {
      "text/plain": [
       "int"
      ]
     },
     "execution_count": 8,
     "metadata": {},
     "output_type": "execute_result"
    }
   ],
   "source": [
    "type(a)"
   ]
  },
  {
   "cell_type": "code",
   "execution_count": 9,
   "id": "3945019a-7583-481b-8931-a8c2f8b8c033",
   "metadata": {},
   "outputs": [],
   "source": [
    "b = 4.2"
   ]
  },
  {
   "cell_type": "code",
   "execution_count": 10,
   "id": "1f0a18f8-13e2-48f6-8886-0785cdbf7fa3",
   "metadata": {},
   "outputs": [
    {
     "data": {
      "text/plain": [
       "4.2"
      ]
     },
     "execution_count": 10,
     "metadata": {},
     "output_type": "execute_result"
    }
   ],
   "source": [
    "b"
   ]
  },
  {
   "cell_type": "code",
   "execution_count": 12,
   "id": "69dbfd2b-fbe8-4402-8b2d-fed6f189c888",
   "metadata": {},
   "outputs": [
    {
     "data": {
      "text/plain": [
       "float"
      ]
     },
     "execution_count": 12,
     "metadata": {},
     "output_type": "execute_result"
    }
   ],
   "source": [
    "type(b)"
   ]
  },
  {
   "cell_type": "code",
   "execution_count": 13,
   "id": "4e586054-0601-4c1c-ab78-9c1285cd990f",
   "metadata": {},
   "outputs": [],
   "source": [
    "ajay = 4"
   ]
  },
  {
   "cell_type": "code",
   "execution_count": 14,
   "id": "46e436db-b485-4172-bf95-d9d120e984a5",
   "metadata": {},
   "outputs": [
    {
     "data": {
      "text/plain": [
       "4"
      ]
     },
     "execution_count": 14,
     "metadata": {},
     "output_type": "execute_result"
    }
   ],
   "source": [
    "ajay"
   ]
  },
  {
   "cell_type": "code",
   "execution_count": 15,
   "id": "f1b92d48-75b6-40e8-801d-f0d67ec56b45",
   "metadata": {},
   "outputs": [],
   "source": [
    "a = \"Ajay\""
   ]
  },
  {
   "cell_type": "code",
   "execution_count": 16,
   "id": "65be5b59-9329-4531-ba7d-521574b7b50e",
   "metadata": {},
   "outputs": [
    {
     "data": {
      "text/plain": [
       "str"
      ]
     },
     "execution_count": 16,
     "metadata": {},
     "output_type": "execute_result"
    }
   ],
   "source": [
    "type(a)"
   ]
  },
  {
   "cell_type": "code",
   "execution_count": 17,
   "id": "a7f50c0b-2c55-4dc6-b561-28eaaeb47bca",
   "metadata": {},
   "outputs": [],
   "source": [
    "d = True"
   ]
  },
  {
   "cell_type": "code",
   "execution_count": 18,
   "id": "1c963f98-ab1e-4b02-ae0b-d7684ef07c6c",
   "metadata": {},
   "outputs": [
    {
     "data": {
      "text/plain": [
       "bool"
      ]
     },
     "execution_count": 18,
     "metadata": {},
     "output_type": "execute_result"
    }
   ],
   "source": [
    "type(d)"
   ]
  },
  {
   "cell_type": "code",
   "execution_count": 19,
   "id": "e060986b-da4b-4c28-bd85-2b0c5b24650e",
   "metadata": {},
   "outputs": [
    {
     "data": {
      "text/plain": [
       "bool"
      ]
     },
     "execution_count": 19,
     "metadata": {},
     "output_type": "execute_result"
    }
   ],
   "source": [
    "a = False\n",
    "type(a)"
   ]
  },
  {
   "cell_type": "code",
   "execution_count": 20,
   "id": "c0c25adc-a14f-4e9a-9571-6b6c3956d36c",
   "metadata": {},
   "outputs": [
    {
     "data": {
      "text/plain": [
       "1"
      ]
     },
     "execution_count": 20,
     "metadata": {},
     "output_type": "execute_result"
    }
   ],
   "source": [
    "True-False"
   ]
  },
  {
   "cell_type": "code",
   "execution_count": 21,
   "id": "a3a42613-78b0-4ff7-bf63-589e3510c685",
   "metadata": {},
   "outputs": [
    {
     "data": {
      "text/plain": [
       "0"
      ]
     },
     "execution_count": 21,
     "metadata": {},
     "output_type": "execute_result"
    }
   ],
   "source": [
    "True * False"
   ]
  },
  {
   "cell_type": "markdown",
   "id": "acb3a34e-2194-4e5a-bab4-e03cf77d4c17",
   "metadata": {},
   "source": [
    "True / False>It will throw error"
   ]
  },
  {
   "cell_type": "code",
   "execution_count": 23,
   "id": "220ab9aa-f752-48ba-9d8e-6045ecaeb871",
   "metadata": {},
   "outputs": [],
   "source": [
    "c = 5+6j #x+iy"
   ]
  },
  {
   "cell_type": "code",
   "execution_count": 25,
   "id": "81af9844-fc43-4908-ae9b-61fbb96ecd77",
   "metadata": {},
   "outputs": [
    {
     "data": {
      "text/plain": [
       "complex"
      ]
     },
     "execution_count": 25,
     "metadata": {},
     "output_type": "execute_result"
    }
   ],
   "source": [
    "type(c)"
   ]
  },
  {
   "cell_type": "code",
   "execution_count": 26,
   "id": "b1f6fb23-a2d6-47d2-bb90-ba878498410c",
   "metadata": {},
   "outputs": [
    {
     "data": {
      "text/plain": [
       "5.0"
      ]
     },
     "execution_count": 26,
     "metadata": {},
     "output_type": "execute_result"
    }
   ],
   "source": [
    "c.real"
   ]
  },
  {
   "cell_type": "code",
   "execution_count": 27,
   "id": "b2a3242d-449e-40fb-9c54-ee5d2ad7679a",
   "metadata": {},
   "outputs": [
    {
     "data": {
      "text/plain": [
       "6.0"
      ]
     },
     "execution_count": 27,
     "metadata": {},
     "output_type": "execute_result"
    }
   ],
   "source": [
    "c.imag"
   ]
  },
  {
   "cell_type": "markdown",
   "id": "2ed3bf64-dae9-4901-aeab-883508ea1801",
   "metadata": {},
   "source": [
    "Rules of defining variable\n",
    "A variable start with a letter or underscore character"
   ]
  },
  {
   "cell_type": "code",
   "execution_count": 28,
   "id": "2685d6ae-998d-4e6f-9eaf-bb3816f619b8",
   "metadata": {},
   "outputs": [
    {
     "ename": "SyntaxError",
     "evalue": "cannot assign to literal here. Maybe you meant '==' instead of '='? (2414822714.py, line 1)",
     "output_type": "error",
     "traceback": [
      "\u001b[0;36m  Cell \u001b[0;32mIn[28], line 1\u001b[0;36m\u001b[0m\n\u001b[0;31m    5 = a\u001b[0m\n\u001b[0m    ^\u001b[0m\n\u001b[0;31mSyntaxError\u001b[0m\u001b[0;31m:\u001b[0m cannot assign to literal here. Maybe you meant '==' instead of '='?\n"
     ]
    }
   ],
   "source": [
    "5 = a #invalid"
   ]
  },
  {
   "cell_type": "code",
   "execution_count": 29,
   "id": "29636e88-e164-45f0-8cc7-52bc4715e169",
   "metadata": {},
   "outputs": [
    {
     "ename": "SyntaxError",
     "evalue": "invalid decimal literal (607410663.py, line 1)",
     "output_type": "error",
     "traceback": [
      "\u001b[0;36m  Cell \u001b[0;32mIn[29], line 1\u001b[0;36m\u001b[0m\n\u001b[0;31m    1name = \"pwskills\"\u001b[0m\n\u001b[0m    ^\u001b[0m\n\u001b[0;31mSyntaxError\u001b[0m\u001b[0;31m:\u001b[0m invalid decimal literal\n"
     ]
    }
   ],
   "source": [
    "1name = \"pwskills\" #invalid"
   ]
  },
  {
   "cell_type": "code",
   "execution_count": 30,
   "id": "639df5d0-a859-44a7-bd23-13510086d458",
   "metadata": {},
   "outputs": [],
   "source": [
    "abc =  25 #valid"
   ]
  },
  {
   "cell_type": "code",
   "execution_count": 31,
   "id": "43c414cf-a530-4522-8fd9-c75071fc16cc",
   "metadata": {},
   "outputs": [
    {
     "data": {
      "text/plain": [
       "25"
      ]
     },
     "execution_count": 31,
     "metadata": {},
     "output_type": "execute_result"
    }
   ],
   "source": [
    "abc"
   ]
  },
  {
   "cell_type": "code",
   "execution_count": 32,
   "id": "9deb59df-ea03-4ef9-83f8-8d171eac6327",
   "metadata": {},
   "outputs": [
    {
     "ename": "SyntaxError",
     "evalue": "cannot assign to literal here. Maybe you meant '==' instead of '='? (310222110.py, line 1)",
     "output_type": "error",
     "traceback": [
      "\u001b[0;36m  Cell \u001b[0;32mIn[32], line 1\u001b[0;36m\u001b[0m\n\u001b[0;31m    1 = abc\u001b[0m\n\u001b[0m    ^\u001b[0m\n\u001b[0;31mSyntaxError\u001b[0m\u001b[0;31m:\u001b[0m cannot assign to literal here. Maybe you meant '==' instead of '='?\n"
     ]
    }
   ],
   "source": [
    "1 = abc #inva;id"
   ]
  },
  {
   "cell_type": "code",
   "execution_count": 34,
   "id": "af8e602f-df8e-40e5-b015-9fd2909f3da5",
   "metadata": {},
   "outputs": [],
   "source": [
    "_name = \"Ajay\""
   ]
  },
  {
   "cell_type": "code",
   "execution_count": 35,
   "id": "b923a4f7-6972-41ac-b54d-ca3f0a312a0a",
   "metadata": {},
   "outputs": [
    {
     "data": {
      "text/plain": [
       "'Ajay'"
      ]
     },
     "execution_count": 35,
     "metadata": {},
     "output_type": "execute_result"
    }
   ],
   "source": [
    "_name"
   ]
  },
  {
   "cell_type": "code",
   "execution_count": 36,
   "id": "dd5865e4-ce72-4f0b-8d9c-fae96e016793",
   "metadata": {},
   "outputs": [],
   "source": [
    "location = \"delhi\""
   ]
  },
  {
   "cell_type": "code",
   "execution_count": 37,
   "id": "046aa753-de55-4952-9710-b5ea14dd6f49",
   "metadata": {},
   "outputs": [
    {
     "data": {
      "text/plain": [
       "'delhi'"
      ]
     },
     "execution_count": 37,
     "metadata": {},
     "output_type": "execute_result"
    }
   ],
   "source": [
    "location"
   ]
  },
  {
   "cell_type": "code",
   "execution_count": 38,
   "id": "1d0ab7e0-9d6e-418a-b375-8aa1a90a8fcc",
   "metadata": {},
   "outputs": [],
   "source": [
    "abc = \"delhi\""
   ]
  },
  {
   "cell_type": "code",
   "execution_count": 39,
   "id": "d7e7d25d-6c4f-4937-8f30-c6ab117918c3",
   "metadata": {},
   "outputs": [
    {
     "data": {
      "text/plain": [
       "'delhi'"
      ]
     },
     "execution_count": 39,
     "metadata": {},
     "output_type": "execute_result"
    }
   ],
   "source": [
    "abc"
   ]
  },
  {
   "cell_type": "code",
   "execution_count": 40,
   "id": "7724aa70-c835-4cae-88f8-6ff77e76867d",
   "metadata": {},
   "outputs": [
    {
     "ename": "SyntaxError",
     "evalue": "cannot assign to expression here. Maybe you meant '==' instead of '='? (1237774261.py, line 1)",
     "output_type": "error",
     "traceback": [
      "\u001b[0;36m  Cell \u001b[0;32mIn[40], line 1\u001b[0;36m\u001b[0m\n\u001b[0;31m    a-bc = \"pwskills\" #invalid\u001b[0m\n\u001b[0m    ^\u001b[0m\n\u001b[0;31mSyntaxError\u001b[0m\u001b[0;31m:\u001b[0m cannot assign to expression here. Maybe you meant '==' instead of '='?\n"
     ]
    }
   ],
   "source": [
    "a-bc = \"pwskills\" #invalid"
   ]
  },
  {
   "cell_type": "code",
   "execution_count": 41,
   "id": "8f95306e-0a6d-415c-9837-1bae9401635a",
   "metadata": {},
   "outputs": [
    {
     "ename": "SyntaxError",
     "evalue": "cannot assign to expression here. Maybe you meant '==' instead of '='? (1842211214.py, line 1)",
     "output_type": "error",
     "traceback": [
      "\u001b[0;36m  Cell \u001b[0;32mIn[41], line 1\u001b[0;36m\u001b[0m\n\u001b[0;31m    data-science = \"pwskills\" #invalid\u001b[0m\n\u001b[0m    ^\u001b[0m\n\u001b[0;31mSyntaxError\u001b[0m\u001b[0;31m:\u001b[0m cannot assign to expression here. Maybe you meant '==' instead of '='?\n"
     ]
    }
   ],
   "source": [
    "data-science = \"pwskills\" #invalid"
   ]
  },
  {
   "cell_type": "code",
   "execution_count": 42,
   "id": "3fdf40a9-a9e6-45d9-ac1d-5b20cc75fb4d",
   "metadata": {},
   "outputs": [
    {
     "ename": "SyntaxError",
     "evalue": "invalid syntax (1219412780.py, line 1)",
     "output_type": "error",
     "traceback": [
      "\u001b[0;36m  Cell \u001b[0;32mIn[42], line 1\u001b[0;36m\u001b[0m\n\u001b[0;31m    data analytics_course = \"Ajay\"\u001b[0m\n\u001b[0m         ^\u001b[0m\n\u001b[0;31mSyntaxError\u001b[0m\u001b[0;31m:\u001b[0m invalid syntax\n"
     ]
    }
   ],
   "source": [
    "data analytics_course = \"Ajay\" #invalid"
   ]
  },
  {
   "cell_type": "code",
   "execution_count": 43,
   "id": "fba0b514-b321-4200-aeca-b0aa590f832d",
   "metadata": {},
   "outputs": [],
   "source": [
    "_abc = \"Python\" #valid"
   ]
  },
  {
   "cell_type": "code",
   "execution_count": 44,
   "id": "a0908f47-7157-40f4-aa28-33974434adad",
   "metadata": {},
   "outputs": [],
   "source": [
    "I12 = \"pw batch\" #valid"
   ]
  },
  {
   "cell_type": "code",
   "execution_count": 45,
   "id": "794aceeb-6784-4fa7-92d6-42d2bd253965",
   "metadata": {},
   "outputs": [],
   "source": [
    "Data_Analytics = \"pw\" #valid"
   ]
  },
  {
   "cell_type": "code",
   "execution_count": 47,
   "id": "490c1751-d5cd-4e9f-8065-fc1db861c594",
   "metadata": {},
   "outputs": [
    {
     "ename": "SyntaxError",
     "evalue": "invalid syntax. Maybe you meant '==' or ':=' instead of '='? (3411463345.py, line 1)",
     "output_type": "error",
     "traceback": [
      "\u001b[0;36m  Cell \u001b[0;32mIn[47], line 1\u001b[0;36m\u001b[0m\n\u001b[0;31m    @abc = \"Ajay\"\u001b[0m\n\u001b[0m     ^\u001b[0m\n\u001b[0;31mSyntaxError\u001b[0m\u001b[0;31m:\u001b[0m invalid syntax. Maybe you meant '==' or ':=' instead of '='?\n"
     ]
    }
   ],
   "source": [
    "@abc = \"Ajay\" #invalid"
   ]
  },
  {
   "cell_type": "code",
   "execution_count": 49,
   "id": "b2c1d93c-f1a5-487d-87a6-80d8fc5d4485",
   "metadata": {},
   "outputs": [
    {
     "name": "stderr",
     "output_type": "stream",
     "text": [
      "UsageError: Line magic function `%abc` not found.\n"
     ]
    }
   ],
   "source": [
    "%abc = \"a\""
   ]
  },
  {
   "cell_type": "code",
   "execution_count": 51,
   "id": "383c934c-2ad5-4f8c-a7bf-a413cafa30f9",
   "metadata": {},
   "outputs": [
    {
     "data": {
      "text/plain": [
       "5"
      ]
     },
     "execution_count": 51,
     "metadata": {},
     "output_type": "execute_result"
    }
   ],
   "source": [
    "#True / False >> This will not be executed\n",
    "2+3"
   ]
  },
  {
   "cell_type": "code",
   "execution_count": 52,
   "id": "59e34df3-ac02-4c35-b094-5d45841abc2f",
   "metadata": {},
   "outputs": [],
   "source": [
    "var = 20 #I am assigning var value 20"
   ]
  },
  {
   "cell_type": "code",
   "execution_count": 53,
   "id": "5279449e-4ebf-46cb-bc93-6c08e7696435",
   "metadata": {},
   "outputs": [
    {
     "data": {
      "text/plain": [
       "20"
      ]
     },
     "execution_count": 53,
     "metadata": {},
     "output_type": "execute_result"
    }
   ],
   "source": [
    "var"
   ]
  },
  {
   "cell_type": "code",
   "execution_count": null,
   "id": "1d4bafa6-0a7b-423b-9935-6c7bbed34023",
   "metadata": {},
   "outputs": [],
   "source": [
    "#I am ajay teaching data\n",
    "#science\n",
    "#and ml"
   ]
  },
  {
   "cell_type": "code",
   "execution_count": 54,
   "id": "dd867ba3-4482-4d8b-9514-ae9e7fe45034",
   "metadata": {},
   "outputs": [
    {
     "data": {
      "text/plain": [
       "'\\nThis is \\na multiline\\ncomment\\n'"
      ]
     },
     "execution_count": 54,
     "metadata": {},
     "output_type": "execute_result"
    }
   ],
   "source": [
    "\"\"\"\n",
    "This is \n",
    "a multiline\n",
    "comment\n",
    "\"\"\""
   ]
  },
  {
   "cell_type": "code",
   "execution_count": null,
   "id": "5eddf388-47d1-4532-8d31-8bb0df0040b4",
   "metadata": {},
   "outputs": [],
   "source": [
    "# This is \n",
    "# a multiline\n",
    "# comment"
   ]
  },
  {
   "cell_type": "code",
   "execution_count": 55,
   "id": "9089ee06-335f-4ffe-a911-174a43df28c6",
   "metadata": {},
   "outputs": [
    {
     "name": "stdout",
     "output_type": "stream",
     "text": [
      "hello world\n"
     ]
    }
   ],
   "source": [
    "print(\"hello world\")"
   ]
  },
  {
   "cell_type": "code",
   "execution_count": 56,
   "id": "d8f17e8b-d1a2-46a3-8169-181d7df90c48",
   "metadata": {},
   "outputs": [],
   "source": [
    "#keywords in Python are predefined words, never use key word as variable\n",
    "# print = \"Ajay\""
   ]
  },
  {
   "cell_type": "code",
   "execution_count": 1,
   "id": "66d25195-2934-4d68-9679-ef6c7bf1d941",
   "metadata": {},
   "outputs": [
    {
     "name": "stdout",
     "output_type": "stream",
     "text": [
      "Ram\n"
     ]
    }
   ],
   "source": [
    "print(\"Ram\")"
   ]
  },
  {
   "cell_type": "code",
   "execution_count": 2,
   "id": "4b614fe0-f4d2-43c0-818f-10e22379de6c",
   "metadata": {},
   "outputs": [
    {
     "name": "stdout",
     "output_type": "stream",
     "text": [
      "\n",
      "Here is a list of the Python keywords.  Enter any keyword to get more help.\n",
      "\n",
      "False               class               from                or\n",
      "None                continue            global              pass\n",
      "True                def                 if                  raise\n",
      "and                 del                 import              return\n",
      "as                  elif                in                  try\n",
      "assert              else                is                  while\n",
      "async               except              lambda              with\n",
      "await               finally             nonlocal            yield\n",
      "break               for                 not                 \n",
      "\n"
     ]
    }
   ],
   "source": [
    "help('keywords')"
   ]
  },
  {
   "cell_type": "code",
   "execution_count": 4,
   "id": "638753b7-10eb-4713-ab93-26d9be8c84af",
   "metadata": {},
   "outputs": [
    {
     "name": "stdout",
     "output_type": "stream",
     "text": [
      "greater\n"
     ]
    }
   ],
   "source": [
    "#indentation\n",
    "if 3>2:\n",
    "    print(\"greater\")"
   ]
  },
  {
   "cell_type": "code",
   "execution_count": 5,
   "id": "7888e744-3859-4d89-9c90-f676b69f0fe0",
   "metadata": {},
   "outputs": [],
   "source": [
    "#statement\n",
    "a = 3 #assignment statements"
   ]
  },
  {
   "cell_type": "code",
   "execution_count": 6,
   "id": "3a5a629c-f7ca-4eda-99aa-ed5cae425d65",
   "metadata": {},
   "outputs": [
    {
     "data": {
      "text/plain": [
       "3"
      ]
     },
     "execution_count": 6,
     "metadata": {},
     "output_type": "execute_result"
    }
   ],
   "source": [
    "a"
   ]
  },
  {
   "cell_type": "code",
   "execution_count": 7,
   "id": "880c06a9-bea0-4637-929b-d425f43310c6",
   "metadata": {},
   "outputs": [
    {
     "data": {
      "text/plain": [
       "7"
      ]
     },
     "execution_count": 7,
     "metadata": {},
     "output_type": "execute_result"
    }
   ],
   "source": [
    "a = 3\n",
    "b = 4\n",
    "a+b #expression"
   ]
  },
  {
   "cell_type": "code",
   "execution_count": 8,
   "id": "438c1d5b-4eb4-4cfd-aeed-c12c07bb13af",
   "metadata": {},
   "outputs": [],
   "source": [
    "a  = 4"
   ]
  },
  {
   "cell_type": "code",
   "execution_count": 9,
   "id": "e4d7823f-7a60-4549-9e65-0a86e2fc8a1e",
   "metadata": {},
   "outputs": [
    {
     "data": {
      "text/plain": [
       "4"
      ]
     },
     "execution_count": 9,
     "metadata": {},
     "output_type": "execute_result"
    }
   ],
   "source": [
    "a"
   ]
  },
  {
   "cell_type": "code",
   "execution_count": 13,
   "id": "c0410cc0-9b5f-4312-bc2c-bed7fdc43484",
   "metadata": {},
   "outputs": [
    {
     "name": "stdin",
     "output_type": "stream",
     "text": [
      "please enter your name :  1\n"
     ]
    }
   ],
   "source": [
    "#standard input-output\n",
    "name = input('please enter your name : ')"
   ]
  },
  {
   "cell_type": "code",
   "execution_count": 14,
   "id": "4663bf74-3e54-42d8-851c-54fd6ec2d7c6",
   "metadata": {},
   "outputs": [
    {
     "data": {
      "text/plain": [
       "'1'"
      ]
     },
     "execution_count": 14,
     "metadata": {},
     "output_type": "execute_result"
    }
   ],
   "source": [
    "name"
   ]
  },
  {
   "cell_type": "code",
   "execution_count": 15,
   "id": "7bb6db9c-872b-440e-9524-4121de383f34",
   "metadata": {},
   "outputs": [
    {
     "data": {
      "text/plain": [
       "str"
      ]
     },
     "execution_count": 15,
     "metadata": {},
     "output_type": "execute_result"
    }
   ],
   "source": [
    "type(name)"
   ]
  },
  {
   "cell_type": "code",
   "execution_count": 16,
   "id": "35ce7c7b-6f59-4751-bc80-6ccc03b6ddd4",
   "metadata": {},
   "outputs": [
    {
     "data": {
      "text/plain": [
       "1"
      ]
     },
     "execution_count": 16,
     "metadata": {},
     "output_type": "execute_result"
    }
   ],
   "source": [
    "#Type caste\n",
    "int(name)"
   ]
  },
  {
   "cell_type": "code",
   "execution_count": 17,
   "id": "6299aa5a-6e72-442f-8330-d91858eca1f2",
   "metadata": {},
   "outputs": [
    {
     "data": {
      "text/plain": [
       "str"
      ]
     },
     "execution_count": 17,
     "metadata": {},
     "output_type": "execute_result"
    }
   ],
   "source": [
    "s = \"121\"\n",
    "type(s)"
   ]
  },
  {
   "cell_type": "code",
   "execution_count": 18,
   "id": "edabb84f-6f37-424f-881d-8b1d1a012301",
   "metadata": {},
   "outputs": [
    {
     "data": {
      "text/plain": [
       "121"
      ]
     },
     "execution_count": 18,
     "metadata": {},
     "output_type": "execute_result"
    }
   ],
   "source": [
    "int(s)"
   ]
  },
  {
   "cell_type": "code",
   "execution_count": 19,
   "id": "df336aca-0f60-4c38-86ae-5d063121dcee",
   "metadata": {},
   "outputs": [
    {
     "data": {
      "text/plain": [
       "str"
      ]
     },
     "execution_count": 19,
     "metadata": {},
     "output_type": "execute_result"
    }
   ],
   "source": [
    "s = \"1.21\"\n",
    "type(s)"
   ]
  },
  {
   "cell_type": "code",
   "execution_count": 20,
   "id": "c2e6053e-3c53-4a57-a056-72ff8593ca1c",
   "metadata": {},
   "outputs": [
    {
     "data": {
      "text/plain": [
       "1.21"
      ]
     },
     "execution_count": 20,
     "metadata": {},
     "output_type": "execute_result"
    }
   ],
   "source": [
    "float(s)"
   ]
  },
  {
   "cell_type": "code",
   "execution_count": 23,
   "id": "392f2cc2-363c-462a-b208-de0f9c6f19b9",
   "metadata": {},
   "outputs": [
    {
     "data": {
      "text/plain": [
       "False"
      ]
     },
     "execution_count": 23,
     "metadata": {},
     "output_type": "execute_result"
    }
   ],
   "source": [
    "bool(0)"
   ]
  },
  {
   "cell_type": "code",
   "execution_count": 24,
   "id": "a2db9961-ea5e-43ff-a2c9-01794d6c34bb",
   "metadata": {},
   "outputs": [
    {
     "data": {
      "text/plain": [
       "True"
      ]
     },
     "execution_count": 24,
     "metadata": {},
     "output_type": "execute_result"
    }
   ],
   "source": [
    "bool(1)"
   ]
  },
  {
   "cell_type": "code",
   "execution_count": 26,
   "id": "c2accce9-dab7-4ad0-a505-c3c770a79b0b",
   "metadata": {},
   "outputs": [
    {
     "ename": "ValueError",
     "evalue": "invalid literal for int() with base 10: 'Ajay'",
     "output_type": "error",
     "traceback": [
      "\u001b[0;31m---------------------------------------------------------------------------\u001b[0m",
      "\u001b[0;31mValueError\u001b[0m                                Traceback (most recent call last)",
      "Cell \u001b[0;32mIn[26], line 2\u001b[0m\n\u001b[1;32m      1\u001b[0m a \u001b[38;5;241m=\u001b[39m \u001b[38;5;124m\"\u001b[39m\u001b[38;5;124mAjay\u001b[39m\u001b[38;5;124m\"\u001b[39m\n\u001b[0;32m----> 2\u001b[0m \u001b[38;5;28;43mint\u001b[39;49m\u001b[43m(\u001b[49m\u001b[43ma\u001b[49m\u001b[43m)\u001b[49m \u001b[38;5;66;03m#throw an error\u001b[39;00m\n",
      "\u001b[0;31mValueError\u001b[0m: invalid literal for int() with base 10: 'Ajay'"
     ]
    }
   ],
   "source": [
    "a = \"Ajay\"\n",
    "int(a) #throw an error"
   ]
  },
  {
   "cell_type": "code",
   "execution_count": 27,
   "id": "a639fd48-36b9-4023-9b4f-9e8b67e7a5e5",
   "metadata": {},
   "outputs": [],
   "source": [
    "a = 3"
   ]
  },
  {
   "cell_type": "code",
   "execution_count": 29,
   "id": "64e29ba1-6027-41d8-9288-dd2562fd079c",
   "metadata": {},
   "outputs": [
    {
     "data": {
      "text/plain": [
       "3"
      ]
     },
     "execution_count": 29,
     "metadata": {},
     "output_type": "execute_result"
    }
   ],
   "source": [
    "#Pythom is case sensitive\n",
    "a"
   ]
  },
  {
   "cell_type": "code",
   "execution_count": null,
   "id": "b25781fc-2f65-426d-8490-5c276f462972",
   "metadata": {},
   "outputs": [],
   "source": []
  }
 ],
 "metadata": {
  "kernelspec": {
   "display_name": "Python 3 (ipykernel)",
   "language": "python",
   "name": "python3"
  },
  "language_info": {
   "codemirror_mode": {
    "name": "ipython",
    "version": 3
   },
   "file_extension": ".py",
   "mimetype": "text/x-python",
   "name": "python",
   "nbconvert_exporter": "python",
   "pygments_lexer": "ipython3",
   "version": "3.10.8"
  }
 },
 "nbformat": 4,
 "nbformat_minor": 5
}
