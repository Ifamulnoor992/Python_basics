{
  "cells": [
    {
      "cell_type": "code",
      "execution_count": null,
      "metadata": {
        "colab": {
          "base_uri": "https://localhost:8080/"
        },
        "id": "EJ5ztr8DJqUH",
        "outputId": "8a0610b7-6ce9-4261-a2f0-9bb0d6516f9b"
      },
      "outputs": [
        {
          "data": {
            "text/plain": [
              "False"
            ]
          },
          "execution_count": 1,
          "metadata": {},
          "output_type": "execute_result"
        }
      ],
      "source": [
        "4>5"
      ]
    },
    {
      "cell_type": "code",
      "execution_count": null,
      "metadata": {
        "colab": {
          "base_uri": "https://localhost:8080/"
        },
        "id": "hQpSH1edK-J6",
        "outputId": "5c3e6515-93cc-418d-b24e-ec86e4bed9fd"
      },
      "outputs": [
        {
          "data": {
            "text/plain": [
              "True"
            ]
          },
          "execution_count": 2,
          "metadata": {},
          "output_type": "execute_result"
        }
      ],
      "source": [
        "1<2"
      ]
    },
    {
      "cell_type": "code",
      "execution_count": null,
      "metadata": {
        "colab": {
          "base_uri": "https://localhost:8080/"
        },
        "id": "7_w_S21PLVPS",
        "outputId": "d402be3f-63b0-4cca-fec1-52c40a21b456"
      },
      "outputs": [
        {
          "name": "stdout",
          "output_type": "stream",
          "text": [
            "the no. is greater than 100\n"
          ]
        }
      ],
      "source": [
        "a = 200\n",
        "if a > 100:  # to execute the if block condition should be true\n",
        "  print(\"the no. is greater than 100\")"
      ]
    },
    {
      "cell_type": "code",
      "execution_count": null,
      "metadata": {
        "colab": {
          "base_uri": "https://localhost:8080/"
        },
        "id": "0Ezsls5eLlCL",
        "outputId": "0135defe-d376-4fc4-d2e3-21a68544b527"
      },
      "outputs": [
        {
          "name": "stdout",
          "output_type": "stream",
          "text": [
            "i will not play cricket\n"
          ]
        }
      ],
      "source": [
        "weather ='rainy'\n",
        "if weather =='rainy':\n",
        "  print('i will not play cricket')\n"
      ]
    },
    {
      "cell_type": "code",
      "execution_count": null,
      "metadata": {
        "colab": {
          "base_uri": "https://localhost:8080/"
        },
        "id": "J2HQ9nNRO4w2",
        "outputId": "c5949ec0-dcaf-44ad-eb70-2a71e515b12c"
      },
      "outputs": [
        {
          "name": "stdout",
          "output_type": "stream",
          "text": [
            "room temp\n"
          ]
        }
      ],
      "source": [
        "temp = 30\n",
        "if temp > 25:\n",
        "  print('room temp')"
      ]
    },
    {
      "cell_type": "code",
      "execution_count": null,
      "metadata": {
        "colab": {
          "base_uri": "https://localhost:8080/"
        },
        "id": "90PBWROUP28W",
        "outputId": "2c0d6b6d-e520-43e2-ffa8-9c0c46320466"
      },
      "outputs": [
        {
          "name": "stdout",
          "output_type": "stream",
          "text": [
            "i am playing cricket\n"
          ]
        }
      ],
      "source": [
        "is_ds_course = False\n",
        "if is_ds_course:\n",
        "  print('i am studying this course')\n",
        "else:\n",
        "  print('i am playing cricket')"
      ]
    },
    {
      "cell_type": "code",
      "execution_count": null,
      "metadata": {
        "colab": {
          "base_uri": "https://localhost:8080/"
        },
        "id": "I8utgFM9QR98",
        "outputId": "e4a127f4-771e-47bf-ee87-4146b463ed7e"
      },
      "outputs": [
        {
          "name": "stdout",
          "output_type": "stream",
          "text": [
            "x is not greater than 5\n"
          ]
        }
      ],
      "source": [
        "x = 3\n",
        "if x>5:\n",
        "  print('x is greater than 5')\n",
        "else:\n",
        "  print('x is not greater than 5')"
      ]
    },
    {
      "cell_type": "code",
      "execution_count": null,
      "metadata": {
        "colab": {
          "base_uri": "https://localhost:8080/"
        },
        "id": "fhQli_eKRJWW",
        "outputId": "3b5b9fc9-24fb-4f8a-f886-7c6a7c73f9ad"
      },
      "outputs": [
        {
          "name": "stdout",
          "output_type": "stream",
          "text": [
            "not a adult\n"
          ]
        }
      ],
      "source": [
        "age = 20\n",
        "if age > 21:\n",
        "  print('allow')\n",
        "else:\n",
        "  print('not a adult')"
      ]
    },
    {
      "cell_type": "code",
      "execution_count": null,
      "metadata": {
        "colab": {
          "base_uri": "https://localhost:8080/"
        },
        "id": "6B4i--RgR2yJ",
        "outputId": "df81d852-673e-4a0b-b6f8-94db5907988a"
      },
      "outputs": [
        {
          "data": {
            "text/plain": [
              "0"
            ]
          },
          "execution_count": 18,
          "metadata": {},
          "output_type": "execute_result"
        }
      ],
      "source": [
        "# to check if a number is even\n",
        "\n",
        "6 % 2"
      ]
    },
    {
      "cell_type": "code",
      "execution_count": null,
      "metadata": {
        "colab": {
          "base_uri": "https://localhost:8080/"
        },
        "id": "AyxyLm2bSAaa",
        "outputId": "73f42f61-f538-4069-f664-234b2670ebdc"
      },
      "outputs": [
        {
          "name": "stdout",
          "output_type": "stream",
          "text": [
            "odd\n"
          ]
        }
      ],
      "source": [
        "num = 7\n",
        "if num % 2 == 0:\n",
        "  print('evn')\n",
        "else:\n",
        "  print('odd')"
      ]
    },
    {
      "cell_type": "code",
      "execution_count": null,
      "metadata": {
        "colab": {
          "base_uri": "https://localhost:8080/"
        },
        "id": "5GhwQsQcSY_U",
        "outputId": "8257937d-7916-4d4c-9fc4-890c481602f8"
      },
      "outputs": [
        {
          "name": "stdout",
          "output_type": "stream",
          "text": [
            "pass\n"
          ]
        }
      ],
      "source": [
        "score = 45\n",
        "if score > 33:\n",
        "  print('pass')\n",
        "else:\n",
        "  print('fail')"
      ]
    },
    {
      "cell_type": "code",
      "execution_count": null,
      "metadata": {
        "colab": {
          "base_uri": "https://localhost:8080/"
        },
        "id": "6arBCSukUENv",
        "outputId": "636e326d-e559-49ab-e576-a8b9342b4a22"
      },
      "outputs": [
        {
          "name": "stdout",
          "output_type": "stream",
          "text": [
            "will execute if a is greater than 100\n"
          ]
        }
      ],
      "source": [
        "#if-elif-else  This is used when we have multiple conditions\n",
        "\n",
        "a = 101\n",
        "if a > 100:\n",
        "  print('will execute if a is greater than 100')\n",
        "elif a < 100:\n",
        "  print('will execute if a is less than 100')\n",
        "else:\n",
        "  print('The number is equals to 100')"
      ]
    },
    {
      "cell_type": "code",
      "execution_count": null,
      "metadata": {
        "colab": {
          "base_uri": "https://localhost:8080/"
        },
        "id": "P1cSVujse0oW",
        "outputId": "358672e5-f2cf-4932-b31f-57342dece9c0"
      },
      "outputs": [
        {
          "name": "stdout",
          "output_type": "stream",
          "text": [
            "grade less than B\n"
          ]
        }
      ],
      "source": [
        "score = 79\n",
        "if score >= 90:\n",
        "  print('grade A')\n",
        "elif 80<=score <=90:\n",
        "  print('grade B')\n",
        "else:\n",
        "  print('grade less than B')"
      ]
    },
    {
      "cell_type": "code",
      "execution_count": null,
      "metadata": {
        "colab": {
          "base_uri": "https://localhost:8080/"
        },
        "id": "qab7MtgahrC2",
        "outputId": "3ef541c9-13c4-4c76-ec2a-2ef3f41a3631"
      },
      "outputs": [
        {
          "name": "stdout",
          "output_type": "stream",
          "text": [
            "after noon\n"
          ]
        }
      ],
      "source": [
        "hour = 14\n",
        "if hour < 12:\n",
        "  print('Gud mrng')\n",
        "elif (12<=hour<=17):\n",
        "  print('after noon')\n",
        "else:\n",
        "  print('good night')"
      ]
    },
    {
      "cell_type": "code",
      "execution_count": null,
      "metadata": {
        "colab": {
          "base_uri": "https://localhost:8080/"
        },
        "id": "TROMDt4pio1W",
        "outputId": "b01c301f-ffae-4bad-84be-a28a1ec1c414"
      },
      "outputs": [
        {
          "name": "stdout",
          "output_type": "stream",
          "text": [
            "you are senior citizen\n"
          ]
        }
      ],
      "source": [
        "age = 75\n",
        "if age< 18:\n",
        "  print('age is minor')\n",
        "elif 18<=age<=65:\n",
        "  print(\"You are adult\")\n",
        "else:\n",
        "  print('you are senior citizen')"
      ]
    },
    {
      "cell_type": "code",
      "execution_count": null,
      "metadata": {
        "colab": {
          "base_uri": "https://localhost:8080/"
        },
        "id": "FTLNJ0gXkeEm",
        "outputId": "44a5fbf7-6ba5-4dfc-bb71-f89488d4b99e"
      },
      "outputs": [
        {
          "name": "stdout",
          "output_type": "stream",
          "text": [
            "x is not greater than 5\n"
          ]
        }
      ],
      "source": [
        "# Nested if else condition means inside one if there can be another ifelse, inside one else there can be another ifelse\n",
        "x = 1\n",
        "y = 5\n",
        "\n",
        "if  x > 5:\n",
        "  if y > 5:\n",
        "    print('Both x and y are greater than 5')\n",
        "  else:\n",
        "    print('x is greater than 5 but y is not')\n",
        "\n",
        "else:\n",
        "  print('x is not greater than 5')\n"
      ]
    },
    {
      "cell_type": "code",
      "execution_count": null,
      "metadata": {
        "colab": {
          "base_uri": "https://localhost:8080/"
        },
        "id": "9rjifooBpOLW",
        "outputId": "655d04ec-3034-4fb1-c3ae-29a259fdacaf"
      },
      "outputs": [
        {
          "name": "stdout",
          "output_type": "stream",
          "text": [
            "Enter a number1\n"
          ]
        },
        {
          "data": {
            "text/plain": [
              "str"
            ]
          },
          "execution_count": 34,
          "metadata": {},
          "output_type": "execute_result"
        }
      ],
      "source": [
        "a = input('Enter a number')\n",
        "type(a)"
      ]
    },
    {
      "cell_type": "code",
      "execution_count": null,
      "metadata": {
        "colab": {
          "base_uri": "https://localhost:8080/"
        },
        "id": "OF40G0TsqXFe",
        "outputId": "95f99ce5-225f-488b-993c-4fdf0f38e9f4"
      },
      "outputs": [
        {
          "name": "stdout",
          "output_type": "stream",
          "text": [
            "Enter a number-7\n",
            "num is negative\n"
          ]
        }
      ],
      "source": [
        "a = int(input('Enter a number'))\n",
        "if a >= 100:\n",
        "  print('num is greater than 100')\n",
        "elif (0<a<100):\n",
        "    print(' a is greater than 0 and less than 100')\n",
        "else:\n",
        "    print('num is negative')"
      ]
    },
    {
      "cell_type": "code",
      "execution_count": null,
      "metadata": {
        "colab": {
          "base_uri": "https://localhost:8080/"
        },
        "id": "oitllw45ulKV",
        "outputId": "e8be2e45-7014-4a81-f396-eafc6cf10460"
      },
      "outputs": [
        {
          "name": "stdout",
          "output_type": "stream",
          "text": [
            "you are not adult\n"
          ]
        }
      ],
      "source": [
        "is_vip = True\n",
        "age = 30\n",
        "\n",
        "if is_vip:\n",
        "  if age>=18:\n",
        "    if age<=65:\n",
        "      print('welcome vip customer')\n",
        "    else:\n",
        "      print('you are vip but also qualified for senior citizen dis')\n",
        "  else:\n",
        "    print('vip status is for adults only')\n",
        "else:\n",
        "  print('you are not adult')\n",
        "\n",
        "\n",
        "\n",
        "\n"
      ]
    },
    {
      "cell_type": "code",
      "execution_count": null,
      "metadata": {
        "id": "prknDktmy1lU"
      },
      "outputs": [],
      "source": [
        "# Designing a survey\n",
        "name = input('Pls enter your name')\n",
        "email = input('plz enter your email')\n",
        "password = input('pls enter your passsword')\n",
        "\n",
        "if name =='':\n",
        "  print('name cannaot be empty')\n",
        "else:\n",
        "  if'@' not in email:\n",
        "      print('invalid email')\n",
        "  else:\n",
        "    if len(password) <0:\n",
        "       print('invalid pswd')\n",
        "    else:\n",
        "       print('registration successful')"
      ]
    },
    {
      "cell_type": "code",
      "execution_count": null,
      "metadata": {},
      "outputs": [],
      "source": []
    }
  ],
  "metadata": {
    "colab": {
      "provenance": []
    },
    "kernelspec": {
      "display_name": "Python 3",
      "name": "python3"
    },
    "language_info": {
      "codemirror_mode": {
        "name": "ipython",
        "version": 3
      },
      "file_extension": ".py",
      "mimetype": "text/x-python",
      "name": "python",
      "nbconvert_exporter": "python",
      "pygments_lexer": "ipython3",
      "version": "3.12.0"
    }
  },
  "nbformat": 4,
  "nbformat_minor": 0
}
